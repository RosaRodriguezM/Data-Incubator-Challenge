import numpy as np 
import pandas as pd
from bokeh.io import show, output_file
from bokeh.models import ColumnDataSource, FactorRange, Title
from bokeh.plotting import figure
ColBeliefs=['id_muj','p15_1_1','p15_1_4']
ColRoles=['id_muj']
for i in [1,2,5,7]:
    for j in range(1,4):
        col = 'p17_1_%d_%d'%(i,j)
        ColRoles.append(col)
Beliefs=pd.read_stata('BD_MUJERES_ENDIREH2016_SitioINEGI.dta',columns=ColBeliefs)
Roles=pd.read_stata('BD_MUJERES_ENDIREH2016_SitioINEGI.dta',columns=ColRoles)
